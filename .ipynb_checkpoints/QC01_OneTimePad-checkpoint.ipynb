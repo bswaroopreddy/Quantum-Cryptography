{
 "cells": [
  {
   "cell_type": "code",
   "execution_count": 32,
   "id": "ff9ee677-06ed-47f9-aa96-541f7a931b6e",
   "metadata": {},
   "outputs": [
    {
     "name": "stdout",
     "output_type": "stream",
     "text": [
      "a_bin = 01101\n",
      "b_bin = 10011\n",
      "a ^ b = 11110 \n"
     ]
    }
   ],
   "source": [
    "def bitwise_operations(a: str, b: str, opcode: int):\n",
    "    print(\"a_bin =\", a)\n",
    "    print(\"b_bin =\", b)\n",
    "    n = len(a)\n",
    "\n",
    "    a_int = int(a, 2)\n",
    "    b_int = int(b, 2)\n",
    "    \n",
    "    if opcode == 1:   # AND\n",
    "        return (bin(a_int & b_int)[2:].zfill(n), '&')\n",
    "    elif opcode == 2:  # OR\n",
    "        return (bin(a_int | b_int)[2:].zfill(n), '|')\n",
    "    elif opcode == 3:    # XOR\n",
    "        return (bin(a_int ^ b_int)[2:].zfill(n), '^')\n",
    "    else:\n",
    "        raise ValueError(\"Invalid opcode. Use 1 (AND), 2 (OR), or 3 (XOR).\")\n",
    "\n",
    "\n",
    "a = '01101'\n",
    "b = '10011'\n",
    "\n",
    "res, op  = bitwise_operations(a, b, 3)\n",
    "#print('a %s b = %s' %(op, res))\n",
    "print('a {} b = {} '.format(op, res))\n"
   ]
  },
  {
   "cell_type": "code",
   "execution_count": 33,
   "id": "95a41048-e83f-4aa0-bd69-8dab4e2a3718",
   "metadata": {},
   "outputs": [
    {
     "name": "stdout",
     "output_type": "stream",
     "text": [
      "00111000\n"
     ]
    }
   ],
   "source": [
    "# Generate a random bit string \n",
    "from random import randint\n",
    "\n",
    "def gen_random_binary_string(nbits: int):\n",
    "    num = randint(0, 2**nbits - 1)  # Upper bound must be inclusive\n",
    "    return format(num, f'0{nbits}b')  # Correctly pad to n bits\n",
    "\n",
    "# Example:\n",
    "res = gen_random_binary_string(8)\n",
    "print(res)  # e.g., '10101100'\n"
   ]
  },
  {
   "cell_type": "code",
   "execution_count": 37,
   "id": "0492d13c-f6b9-462f-ad16-2a888b890869",
   "metadata": {},
   "outputs": [
    {
     "name": "stdout",
     "output_type": "stream",
     "text": [
      "\n",
      "8-bit operation on a and b\n",
      "a_bin = 00010001\n",
      "b_bin = 11111101\n",
      "a & b = 00010001\n",
      "\n",
      "4-bit operation on a and b\n",
      "a_bin = 0110\n",
      "b_bin = 1000\n",
      "a | b = 1110\n"
     ]
    }
   ],
   "source": [
    "for i in range(2):\n",
    "    opcode = randint(1,3)\n",
    "    n = randint(2,5)\n",
    "    a = gen_random_binary_string(2**n)\n",
    "    b = gen_random_binary_string(2**n)\n",
    "\n",
    "    print(\"\\n{}-bit operation on a and b\".format(2**n))\n",
    "    res, op  = bitwise_operations(a, b, opcode)\n",
    "    print('a {} b = {}'.format(op, res))\n",
    "\n",
    "    "
   ]
  },
  {
   "cell_type": "code",
   "execution_count": null,
   "id": "77c57f7f-1c78-4f94-bb27-0213a1de33a3",
   "metadata": {},
   "outputs": [],
   "source": []
  }
 ],
 "metadata": {
  "kernelspec": {
   "display_name": "Python 3 (ipykernel)",
   "language": "python",
   "name": "python3"
  },
  "language_info": {
   "codemirror_mode": {
    "name": "ipython",
    "version": 3
   },
   "file_extension": ".py",
   "mimetype": "text/x-python",
   "name": "python",
   "nbconvert_exporter": "python",
   "pygments_lexer": "ipython3",
   "version": "3.12.3"
  }
 },
 "nbformat": 4,
 "nbformat_minor": 5
}
