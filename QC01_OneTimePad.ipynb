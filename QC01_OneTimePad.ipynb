{
 "cells": [
  {
   "cell_type": "code",
   "execution_count": 32,
   "id": "ff9ee677-06ed-47f9-aa96-541f7a931b6e",
   "metadata": {},
   "outputs": [
    {
     "name": "stdout",
     "output_type": "stream",
     "text": [
      "a_bin = 01101\n",
      "b_bin = 10011\n",
      "a ^ b = 11110 \n"
     ]
    }
   ],
   "source": [
    "# Function to compute different bitwise operations\n",
    "def bitwise_operations(a: str, b: str, opcode: int):\n",
    "    print(\"a_bin =\", a)\n",
    "    print(\"b_bin =\", b)\n",
    "    n = len(a)\n",
    "\n",
    "    a_int = int(a, 2)\n",
    "    b_int = int(b, 2)\n",
    "    \n",
    "    if opcode == 1:   # AND\n",
    "        return (bin(a_int & b_int)[2:].zfill(n), '&')\n",
    "    elif opcode == 2:  # OR\n",
    "        return (bin(a_int | b_int)[2:].zfill(n), '|')\n",
    "    elif opcode == 3:    # XOR\n",
    "        return (bin(a_int ^ b_int)[2:].zfill(n), '^')\n",
    "    else:\n",
    "        raise ValueError(\"Invalid opcode. Use 1 (AND), 2 (OR), or 3 (XOR).\")\n",
    "\n",
    "\n",
    "a = '01101'\n",
    "b = '10011'\n",
    "\n",
    "res, op  = bitwise_operations(a, b, 3)\n",
    "#print('a %s b = %s' %(op, res))\n",
    "print('a {} b = {} '.format(op, res))\n"
   ]
  },
  {
   "cell_type": "code",
   "execution_count": 33,
   "id": "95a41048-e83f-4aa0-bd69-8dab4e2a3718",
   "metadata": {},
   "outputs": [
    {
     "name": "stdout",
     "output_type": "stream",
     "text": [
      "00111000\n"
     ]
    }
   ],
   "source": [
    "# Generate a random bit string \n",
    "from random import randint\n",
    "\n",
    "def gen_random_binary_string(nbits: int):\n",
    "    num = randint(0, 2**nbits - 1)  # Upper bound must be inclusive\n",
    "    return format(num, f'0{nbits}b')  # Correctly pad to n bits\n",
    "\n",
    "# Example:\n",
    "res = gen_random_binary_string(8)\n",
    "print(res)  # e.g., '10101100'\n"
   ]
  },
  {
   "cell_type": "code",
   "execution_count": 39,
   "id": "0492d13c-f6b9-462f-ad16-2a888b890869",
   "metadata": {},
   "outputs": [
    {
     "name": "stdout",
     "output_type": "stream",
     "text": [
      "\n",
      "32-bit operation on a and b\n",
      "a_bin = 11001111011000010111001010111110\n",
      "b_bin = 01110100101100011101011001001001\n",
      "a | b = 11111111111100011111011011111111\n",
      "\n",
      "32-bit operation on a and b\n",
      "a_bin = 10110010000111100001001000011101\n",
      "b_bin = 01010011001101110100000001110100\n",
      "a ^ b = 11100001001010010101001001101001\n",
      "\n",
      "32-bit operation on a and b\n",
      "a_bin = 11110100101001010000110111110101\n",
      "b_bin = 00101111111000000100110111111001\n",
      "a | b = 11111111111001010100110111111101\n",
      "\n",
      "32-bit operation on a and b\n",
      "a_bin = 11100000101100000000110101010110\n",
      "b_bin = 01101011100111111110010100000011\n",
      "a & b = 01100000100100000000010100000010\n",
      "\n",
      "16-bit operation on a and b\n",
      "a_bin = 0100100001110011\n",
      "b_bin = 0010000110110100\n",
      "a | b = 0110100111110111\n",
      "\n",
      "16-bit operation on a and b\n",
      "a_bin = 1110101000111111\n",
      "b_bin = 1000011110011001\n",
      "a ^ b = 0110110110100110\n",
      "\n",
      "32-bit operation on a and b\n",
      "a_bin = 01010001000001011000001011001100\n",
      "b_bin = 00100101100011010011001000100101\n",
      "a ^ b = 01110100100010001011000011101001\n",
      "\n",
      "4-bit operation on a and b\n",
      "a_bin = 0011\n",
      "b_bin = 1110\n",
      "a | b = 1111\n",
      "\n",
      "4-bit operation on a and b\n",
      "a_bin = 1100\n",
      "b_bin = 1111\n",
      "a | b = 1111\n",
      "\n",
      "16-bit operation on a and b\n",
      "a_bin = 1100110111011011\n",
      "b_bin = 0111100000111011\n",
      "a | b = 1111110111111011\n"
     ]
    }
   ],
   "source": [
    "# Re-run the code above with different binary strings and verify the operations. Generate the binary strings 'a' and 'b' randomly.\n",
    "for i in range(10):\n",
    "    opcode = randint(1,3)\n",
    "    n = randint(2,5)\n",
    "    a = gen_random_binary_string(2**n)\n",
    "    b = gen_random_binary_string(2**n)\n",
    "\n",
    "    print(\"\\n{}-bit operation on a and b\".format(2**n))\n",
    "    res, op  = bitwise_operations(a, b, opcode)\n",
    "    print('a {} b = {}'.format(op, res))\n",
    "\n",
    "    "
   ]
  },
  {
   "cell_type": "code",
   "execution_count": 45,
   "id": "77c57f7f-1c78-4f94-bb27-0213a1de33a3",
   "metadata": {},
   "outputs": [
    {
     "name": "stdout",
     "output_type": "stream",
     "text": [
      "01010011011101110110000101110010011011110110111101110000\n",
      "56\n",
      "6\n",
      "Swaroop\n"
     ]
    }
   ],
   "source": [
    "# Functions to convert string to Binary and Binary to string\n",
    "import math\n",
    "def string_to_binary(s: str) -> str:\n",
    "    return ''.join(format(ord(char), '08b') for char in s)\n",
    "\n",
    "def binary_to_string(b: str) -> str:\n",
    "    chars = [chr(int(b[i:i+8], 2)) for i in range(0, len(b), 8)]\n",
    "    return ''.join(chars)\n",
    "\n",
    "b = string_to_binary(\"Swaroop\")\n",
    "print(b)\n",
    "\n",
    "s = binary_to_string(b)\n",
    "print(s)\n",
    "\n",
    "print(len(b))\n",
    "n = math.ceil(math.log2(len(b)))\n",
    "print(n)\n"
   ]
  },
  {
   "cell_type": "code",
   "execution_count": 47,
   "id": "0c152ab4-7a12-413c-8e98-7f45b5cbfd4e",
   "metadata": {},
   "outputs": [],
   "source": [
    "# Example \n",
    "\n",
    "# Alice wants to send Bob a message that contains information about their next meetup time, say 9AM.\n",
    "\n",
    "# She encrypts this message using one-time pad.\n",
    "\n",
    "# She converts the time to its binary representation using 8-bit ASCII character encoding. Generally, \"XY AM/PM\" requires 32 bits.\n",
    "\n",
    "# So, \"09AM\" is 00000000001110010100000101001101 in binary. (Refer: ASCII Table)\n",
    "\n",
    "# Alice needs a random key of the same string length (32 bits) to encrypt her message."
   ]
  },
  {
   "cell_type": "code",
   "execution_count": 50,
   "id": "dd14f873-10ee-4500-8cee-7fd214b8793b",
   "metadata": {},
   "outputs": [
    {
     "name": "stdout",
     "output_type": "stream",
     "text": [
      "00000011000100110110000110000011\n"
     ]
    }
   ],
   "source": [
    "#Generating random key\n",
    "from random import randrange\n",
    "\n",
    "def gen_random_key(n):\n",
    "    lst = [str(randrange(2)) for _ in range(n)]\n",
    "        \n",
    "    return ''.join(lst) #converting key to binary format\n",
    "\n",
    "key = gen_random_key(32)\n",
    "print(key)"
   ]
  },
  {
   "cell_type": "code",
   "execution_count": 61,
   "id": "5900ee2c-77f8-4a1f-b1aa-58df5278db54",
   "metadata": {},
   "outputs": [
    {
     "name": "stdout",
     "output_type": "stream",
     "text": [
      "m:  00000000001110010100000101001101\n",
      "k:  00011101101000010111010011111110\n",
      "c:  00011101100110000011010110110011\n",
      "m':  00000000001110010100000101001101\n"
     ]
    }
   ],
   "source": [
    "m = string_to_binary('9AM')\n",
    "n_bits = 2**math.ceil(math.log2(len(m)))\n",
    "\n",
    "message = bin(int(m, 2))[2:].zfill(n_bits)\n",
    "\n",
    "\n",
    "key = gen_random_key(n_bits)\n",
    "\n",
    "ciphertext = bin(int(message, 2) ^ int(key, 2))[2:].zfill(n_bits) #encrypt the message using generated random key by applying xor operator\n",
    "\n",
    "print(\"Message: \", message)\n",
    "print(\"Key: \", key)\n",
    "print(\"Ciphertext: \", ciphertext)\n",
    "\n",
    "dec_message = bin(int(ciphertext, 2) ^ int(key, 2))[2:].zfill(n_bits) #decrypt the ciphertext using generated random key by applying xor operator\n",
    "\n",
    "print(\"m': \", dec_message)\n",
    "# Assert the original and decrypted messages are equal\n",
    "assert message == dec_message, \"Decryption failed!\""
   ]
  },
  {
   "cell_type": "code",
   "execution_count": null,
   "id": "42da1793-9c93-4d53-99d2-90c1bf7447d4",
   "metadata": {},
   "outputs": [],
   "source": []
  }
 ],
 "metadata": {
  "kernelspec": {
   "display_name": "Python 3 (ipykernel)",
   "language": "python",
   "name": "python3"
  },
  "language_info": {
   "codemirror_mode": {
    "name": "ipython",
    "version": 3
   },
   "file_extension": ".py",
   "mimetype": "text/x-python",
   "name": "python",
   "nbconvert_exporter": "python",
   "pygments_lexer": "ipython3",
   "version": "3.12.3"
  }
 },
 "nbformat": 4,
 "nbformat_minor": 5
}
