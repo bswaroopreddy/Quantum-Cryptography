{
 "cells": [
  {
   "cell_type": "code",
   "execution_count": 32,
   "id": "ff9ee677-06ed-47f9-aa96-541f7a931b6e",
   "metadata": {},
   "outputs": [
    {
     "name": "stdout",
     "output_type": "stream",
     "text": [
      "a_bin = 01101\n",
      "b_bin = 10011\n",
      "a ^ b = 11110 \n"
     ]
    }
   ],
   "source": [
    "def bitwise_operations(a: str, b: str, opcode: int):\n",
    "    print(\"a_bin =\", a)\n",
    "    print(\"b_bin =\", b)\n",
    "    n = len(a)\n",
    "\n",
    "    a_int = int(a, 2)\n",
    "    b_int = int(b, 2)\n",
    "    \n",
    "    if opcode == 1:   # AND\n",
    "        return (bin(a_int & b_int)[2:].zfill(n), '&')\n",
    "    elif opcode == 2:  # OR\n",
    "        return (bin(a_int | b_int)[2:].zfill(n), '|')\n",
    "    elif opcode == 3:    # XOR\n",
    "        return (bin(a_int ^ b_int)[2:].zfill(n), '^')\n",
    "    else:\n",
    "        raise ValueError(\"Invalid opcode. Use 1 (AND), 2 (OR), or 3 (XOR).\")\n",
    "\n",
    "\n",
    "a = '01101'\n",
    "b = '10011'\n",
    "\n",
    "res, op  = bitwise_operations(a, b, 3)\n",
    "#print('a %s b = %s' %(op, res))\n",
    "print('a {} b = {} '.format(op, res))\n"
   ]
  },
  {
   "cell_type": "code",
   "execution_count": 33,
   "id": "95a41048-e83f-4aa0-bd69-8dab4e2a3718",
   "metadata": {},
   "outputs": [
    {
     "name": "stdout",
     "output_type": "stream",
     "text": [
      "00111000\n"
     ]
    }
   ],
   "source": [
    "# Generate a random bit string \n",
    "from random import randint\n",
    "\n",
    "def gen_random_binary_string(nbits: int):\n",
    "    num = randint(0, 2**nbits - 1)  # Upper bound must be inclusive\n",
    "    return format(num, f'0{nbits}b')  # Correctly pad to n bits\n",
    "\n",
    "# Example:\n",
    "res = gen_random_binary_string(8)\n",
    "print(res)  # e.g., '10101100'\n"
   ]
  },
  {
   "cell_type": "code",
   "execution_count": 39,
   "id": "0492d13c-f6b9-462f-ad16-2a888b890869",
   "metadata": {},
   "outputs": [
    {
     "name": "stdout",
     "output_type": "stream",
     "text": [
      "\n",
      "32-bit operation on a and b\n",
      "a_bin = 11001111011000010111001010111110\n",
      "b_bin = 01110100101100011101011001001001\n",
      "a | b = 11111111111100011111011011111111\n",
      "\n",
      "32-bit operation on a and b\n",
      "a_bin = 10110010000111100001001000011101\n",
      "b_bin = 01010011001101110100000001110100\n",
      "a ^ b = 11100001001010010101001001101001\n",
      "\n",
      "32-bit operation on a and b\n",
      "a_bin = 11110100101001010000110111110101\n",
      "b_bin = 00101111111000000100110111111001\n",
      "a | b = 11111111111001010100110111111101\n",
      "\n",
      "32-bit operation on a and b\n",
      "a_bin = 11100000101100000000110101010110\n",
      "b_bin = 01101011100111111110010100000011\n",
      "a & b = 01100000100100000000010100000010\n",
      "\n",
      "16-bit operation on a and b\n",
      "a_bin = 0100100001110011\n",
      "b_bin = 0010000110110100\n",
      "a | b = 0110100111110111\n",
      "\n",
      "16-bit operation on a and b\n",
      "a_bin = 1110101000111111\n",
      "b_bin = 1000011110011001\n",
      "a ^ b = 0110110110100110\n",
      "\n",
      "32-bit operation on a and b\n",
      "a_bin = 01010001000001011000001011001100\n",
      "b_bin = 00100101100011010011001000100101\n",
      "a ^ b = 01110100100010001011000011101001\n",
      "\n",
      "4-bit operation on a and b\n",
      "a_bin = 0011\n",
      "b_bin = 1110\n",
      "a | b = 1111\n",
      "\n",
      "4-bit operation on a and b\n",
      "a_bin = 1100\n",
      "b_bin = 1111\n",
      "a | b = 1111\n",
      "\n",
      "16-bit operation on a and b\n",
      "a_bin = 1100110111011011\n",
      "b_bin = 0111100000111011\n",
      "a | b = 1111110111111011\n"
     ]
    }
   ],
   "source": [
    "for i in range(10):\n",
    "    opcode = randint(1,3)\n",
    "    n = randint(2,5)\n",
    "    a = gen_random_binary_string(2**n)\n",
    "    b = gen_random_binary_string(2**n)\n",
    "\n",
    "    print(\"\\n{}-bit operation on a and b\".format(2**n))\n",
    "    res, op  = bitwise_operations(a, b, opcode)\n",
    "    print('a {} b = {}'.format(op, res))\n",
    "\n",
    "    "
   ]
  },
  {
   "cell_type": "code",
   "execution_count": null,
   "id": "77c57f7f-1c78-4f94-bb27-0213a1de33a3",
   "metadata": {},
   "outputs": [],
   "source": []
  }
 ],
 "metadata": {
  "kernelspec": {
   "display_name": "Python 3 (ipykernel)",
   "language": "python",
   "name": "python3"
  },
  "language_info": {
   "codemirror_mode": {
    "name": "ipython",
    "version": 3
   },
   "file_extension": ".py",
   "mimetype": "text/x-python",
   "name": "python",
   "nbconvert_exporter": "python",
   "pygments_lexer": "ipython3",
   "version": "3.12.3"
  }
 },
 "nbformat": 4,
 "nbformat_minor": 5
}
